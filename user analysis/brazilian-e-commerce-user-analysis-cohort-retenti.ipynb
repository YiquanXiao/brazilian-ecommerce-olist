{
 "cells": [
  {
   "cell_type": "markdown",
   "id": "8aa8de0a",
   "metadata": {
    "papermill": {
     "duration": 0.008257,
     "end_time": "2025-07-17T23:51:12.601551",
     "exception": false,
     "start_time": "2025-07-17T23:51:12.593294",
     "status": "completed"
    },
    "tags": []
   },
   "source": [
    "# 巴西电商用户分析：留存与简版LTV预测 / Brazilian E‑commerce User Analysis: Cohort Retention & Simplified LTV Prediction"
   ]
  },
  {
   "cell_type": "markdown",
   "id": "849003bc",
   "metadata": {
    "papermill": {
     "duration": 0.006992,
     "end_time": "2025-07-17T23:51:12.616263",
     "exception": false,
     "start_time": "2025-07-17T23:51:12.609271",
     "status": "completed"
    },
    "tags": []
   },
   "source": [
    "## 0. 环境与数据 / Environment and Data"
   ]
  },
  {
   "cell_type": "markdown",
   "id": "ced5b9c2",
   "metadata": {
    "papermill": {
     "duration": 0.008144,
     "end_time": "2025-07-17T23:51:12.632196",
     "exception": false,
     "start_time": "2025-07-17T23:51:12.624052",
     "status": "completed"
    },
    "tags": []
   },
   "source": [
    "### 0.1 说明 / Description"
   ]
  },
  {
   "cell_type": "markdown",
   "id": "9319fd34",
   "metadata": {
    "papermill": {
     "duration": 0.007041,
     "end_time": "2025-07-17T23:51:12.646624",
     "exception": false,
     "start_time": "2025-07-17T23:51:12.639583",
     "status": "completed"
    },
    "tags": []
   },
   "source": [
    "本 Notebook 在 Kaggle 平台运行。\n",
    "- Notebook 链接：[https://www.kaggle.com/code/yiquanxiao/brazilian-e-commerce-user-analysis-cohort-retenti](https://www.kaggle.com/code/yiquanxiao/brazilian-e-commerce-user-analysis-cohort-retenti)\n",
    "\n",
    "---\n",
    "\n",
    "This notebook runs on the Kaggle platform.\n",
    "- Notebook Link: [https://www.kaggle.com/code/yiquanxiao/brazilian-e-commerce-user-analysis-cohort-retenti](https://www.kaggle.com/code/yiquanxiao/brazilian-e-commerce-user-analysis-cohort-retenti)"
   ]
  },
  {
   "cell_type": "markdown",
   "id": "ad90228b",
   "metadata": {
    "papermill": {
     "duration": 0.007237,
     "end_time": "2025-07-17T23:51:12.661922",
     "exception": false,
     "start_time": "2025-07-17T23:51:12.654685",
     "status": "completed"
    },
    "tags": []
   },
   "source": [
    "前作（用户分群）：[https://www.kaggle.com/code/yiquanxiao/brazilian-e-commerce-customer-segmentation](https://www.kaggle.com/code/yiquanxiao/brazilian-e-commerce-customer-segmentation)\n",
    "\n",
    "---\n",
    "\n",
    "Previous Work (Customer Segmentation): [https://www.kaggle.com/code/yiquanxiao/brazilian-e-commerce-customer-segmentation](https://www.kaggle.com/code/yiquanxiao/brazilian-e-commerce-customer-segmentation)"
   ]
  },
  {
   "cell_type": "markdown",
   "id": "b72e337a",
   "metadata": {
    "papermill": {
     "duration": 0.006985,
     "end_time": "2025-07-17T23:51:12.676223",
     "exception": false,
     "start_time": "2025-07-17T23:51:12.669238",
     "status": "completed"
    },
    "tags": []
   },
   "source": [
    "### 0.2 依赖 / Dependencies"
   ]
  },
  {
   "cell_type": "code",
   "execution_count": 1,
   "id": "ce637647",
   "metadata": {
    "execution": {
     "iopub.execute_input": "2025-07-17T23:51:12.692614Z",
     "iopub.status.busy": "2025-07-17T23:51:12.692321Z",
     "iopub.status.idle": "2025-07-17T23:51:22.119219Z",
     "shell.execute_reply": "2025-07-17T23:51:22.118216Z"
    },
    "papermill": {
     "duration": 9.437628,
     "end_time": "2025-07-17T23:51:22.121033",
     "exception": false,
     "start_time": "2025-07-17T23:51:12.683405",
     "status": "completed"
    },
    "tags": []
   },
   "outputs": [],
   "source": [
    "import numpy as np\n",
    "import pandas as pd\n",
    "from pandas.tseries.offsets import DateOffset\n",
    "from sklearn.model_selection import train_test_split\n",
    "from lightgbm import LGBMRegressor\n",
    "from sklearn.metrics import mean_absolute_error\n",
    "import matplotlib.pyplot as plt\n",
    "import seaborn as sns\n",
    "import joblib\n",
    "from pathlib import Path"
   ]
  },
  {
   "cell_type": "markdown",
   "id": "0d0945d1",
   "metadata": {
    "papermill": {
     "duration": 0.006971,
     "end_time": "2025-07-17T23:51:22.135424",
     "exception": false,
     "start_time": "2025-07-17T23:51:22.128453",
     "status": "completed"
    },
    "tags": []
   },
   "source": [
    "## 1. 数据与模型加载 / Data & Model Loading"
   ]
  },
  {
   "cell_type": "markdown",
   "id": "92782482",
   "metadata": {
    "papermill": {
     "duration": 0.006965,
     "end_time": "2025-07-17T23:51:22.149643",
     "exception": false,
     "start_time": "2025-07-17T23:51:22.142678",
     "status": "completed"
    },
    "tags": []
   },
   "source": [
    "### 1.1 加载原始 CSV 数据 / Load CSV files"
   ]
  },
  {
   "cell_type": "code",
   "execution_count": 2,
   "id": "a77105a0",
   "metadata": {
    "execution": {
     "iopub.execute_input": "2025-07-17T23:51:22.166118Z",
     "iopub.status.busy": "2025-07-17T23:51:22.165059Z",
     "iopub.status.idle": "2025-07-17T23:51:23.661745Z",
     "shell.execute_reply": "2025-07-17T23:51:23.660782Z"
    },
    "papermill": {
     "duration": 1.506779,
     "end_time": "2025-07-17T23:51:23.663517",
     "exception": false,
     "start_time": "2025-07-17T23:51:22.156738",
     "status": "completed"
    },
    "tags": []
   },
   "outputs": [],
   "source": [
    "data_path = Path('/kaggle/input/brazilian-ecommerce')\n",
    "# 客户基本信息 / Customer info\n",
    "customers = pd.read_csv(data_path / 'olist_customers_dataset.csv')\n",
    "# 订单明细（含购买时间）/ Orders (with purchase timestamp)\n",
    "orders = pd.read_csv(data_path / 'olist_orders_dataset.csv')\n",
    "# 支付记录（含支付金额）/ Payments (with payment value)\n",
    "payments = pd.read_csv(data_path / 'olist_order_payments_dataset.csv')\n",
    "# 额外加载 order_items & products，用于品类特征 / Load for product category\n",
    "order_items = pd.read_csv(data_path / 'olist_order_items_dataset.csv')\n",
    "products = pd.read_csv(data_path / 'olist_products_dataset.csv')"
   ]
  },
  {
   "cell_type": "markdown",
   "id": "35e60ea1",
   "metadata": {
    "papermill": {
     "duration": 0.008421,
     "end_time": "2025-07-17T23:51:23.679629",
     "exception": false,
     "start_time": "2025-07-17T23:51:23.671208",
     "status": "completed"
    },
    "tags": []
   },
   "source": [
    "### 1.2 加载预训练对象（scaler.pkl, kmeans_model.pkl）/ Load scaler & K‑Means model\n",
    "\n",
    "Here, we use the pretrained scaler and KMeans model from previous work."
   ]
  },
  {
   "cell_type": "code",
   "execution_count": 3,
   "id": "57ea8b0a",
   "metadata": {
    "execution": {
     "iopub.execute_input": "2025-07-17T23:51:23.696740Z",
     "iopub.status.busy": "2025-07-17T23:51:23.696429Z",
     "iopub.status.idle": "2025-07-17T23:51:24.120882Z",
     "shell.execute_reply": "2025-07-17T23:51:24.120007Z"
    },
    "papermill": {
     "duration": 0.434967,
     "end_time": "2025-07-17T23:51:24.122455",
     "exception": false,
     "start_time": "2025-07-17T23:51:23.687488",
     "status": "completed"
    },
    "tags": []
   },
   "outputs": [],
   "source": [
    "models_path  = Path('/kaggle/input/brazilian-e-commerce-customer-segmentation')\n",
    "scaler = joblib.load(models_path / 'scaler.pkl')\n",
    "kmeans_model = joblib.load(models_path / 'kmeans_model.pkl')"
   ]
  },
  {
   "cell_type": "markdown",
   "id": "504b3ee5",
   "metadata": {
    "papermill": {
     "duration": 0.007021,
     "end_time": "2025-07-17T23:51:24.137381",
     "exception": false,
     "start_time": "2025-07-17T23:51:24.130360",
     "status": "completed"
    },
    "tags": []
   },
   "source": [
    "## 2. 数据预处理 / Data Preprocessing  "
   ]
  },
  {
   "cell_type": "markdown",
   "id": "bb6cc6da",
   "metadata": {
    "papermill": {
     "duration": 0.006917,
     "end_time": "2025-07-17T23:51:24.151560",
     "exception": false,
     "start_time": "2025-07-17T23:51:24.144643",
     "status": "completed"
    },
    "tags": []
   },
   "source": [
    "### 2.1 数据清洗 / Data Cleaning"
   ]
  },
  {
   "cell_type": "code",
   "execution_count": 4,
   "id": "de7924a3",
   "metadata": {
    "execution": {
     "iopub.execute_input": "2025-07-17T23:51:24.168016Z",
     "iopub.status.busy": "2025-07-17T23:51:24.167174Z",
     "iopub.status.idle": "2025-07-17T23:51:24.618426Z",
     "shell.execute_reply": "2025-07-17T23:51:24.617371Z"
    },
    "papermill": {
     "duration": 0.461131,
     "end_time": "2025-07-17T23:51:24.620137",
     "exception": false,
     "start_time": "2025-07-17T23:51:24.159006",
     "status": "completed"
    },
    "tags": []
   },
   "outputs": [
    {
     "name": "stdout",
     "output_type": "stream",
     "text": [
      "Checking customers ...\n",
      "# of duplicates: 0\n",
      "# of missing items:\n",
      "customer_id                 0\n",
      "customer_unique_id          0\n",
      "customer_zip_code_prefix    0\n",
      "customer_city               0\n",
      "customer_state              0\n",
      "dtype: int64\n",
      "--------------------------------------------\n",
      "Checking orders ...\n",
      "# of duplicates: 0\n",
      "# of missing items:\n",
      "order_id                            0\n",
      "customer_id                         0\n",
      "order_status                        0\n",
      "order_purchase_timestamp            0\n",
      "order_approved_at                 160\n",
      "order_delivered_carrier_date     1783\n",
      "order_delivered_customer_date    2965\n",
      "order_estimated_delivery_date       0\n",
      "dtype: int64\n",
      "--------------------------------------------\n",
      "Checking payments ...\n",
      "# of duplicates: 0\n",
      "# of missing items:\n",
      "order_id                0\n",
      "payment_sequential      0\n",
      "payment_type            0\n",
      "payment_installments    0\n",
      "payment_value           0\n",
      "dtype: int64\n",
      "--------------------------------------------\n",
      "Checking order_items ...\n",
      "# of duplicates: 0\n",
      "# of missing items:\n",
      "order_id               0\n",
      "order_item_id          0\n",
      "product_id             0\n",
      "seller_id              0\n",
      "shipping_limit_date    0\n",
      "price                  0\n",
      "freight_value          0\n",
      "dtype: int64\n",
      "--------------------------------------------\n",
      "Checking products ...\n",
      "# of duplicates: 0\n",
      "# of missing items:\n",
      "product_id                      0\n",
      "product_category_name         610\n",
      "product_name_lenght           610\n",
      "product_description_lenght    610\n",
      "product_photos_qty            610\n",
      "product_weight_g                2\n",
      "product_length_cm               2\n",
      "product_height_cm               2\n",
      "product_width_cm                2\n",
      "dtype: int64\n",
      "--------------------------------------------\n"
     ]
    }
   ],
   "source": [
    "# 检查缺失值及重复 / Check missing values and duplicates\n",
    "for df_name, df in [(\"customers\", customers), \n",
    "                    (\"orders\", orders), \n",
    "                    (\"payments\", payments), \n",
    "                    (\"order_items\", order_items), \n",
    "                    (\"products\", products)]:\n",
    "    print(f\"Checking {df_name} ...\")\n",
    "    print(f\"# of duplicates: {df.duplicated().sum()}\")\n",
    "    # print(f\"# of duplicates: {df[key].duplicated().sum()}\")\n",
    "    print(f\"# of missing items:\")\n",
    "    print(df.isnull().sum())\n",
    "    print(\"--------------------------------------------\")"
   ]
  },
  {
   "cell_type": "markdown",
   "id": "b303156b",
   "metadata": {
    "papermill": {
     "duration": 0.007773,
     "end_time": "2025-07-17T23:51:24.689770",
     "exception": false,
     "start_time": "2025-07-17T23:51:24.681997",
     "status": "completed"
    },
    "tags": []
   },
   "source": [
    "没有重复值，出现了一些缺失值。但是对于我们关注的那几列来说，只有`product_category_name`有重复的情况。所以只需要处理这个就好了。\n",
    "\n",
    "There are no duplicate values, but some missing values have appeared. However, for the columns we're focusing on, only `product_category_name` has duplicates. So we only need to handle that."
   ]
  },
  {
   "cell_type": "code",
   "execution_count": 5,
   "id": "9ba38251",
   "metadata": {
    "execution": {
     "iopub.execute_input": "2025-07-17T23:51:24.706353Z",
     "iopub.status.busy": "2025-07-17T23:51:24.706068Z",
     "iopub.status.idle": "2025-07-17T23:51:24.713697Z",
     "shell.execute_reply": "2025-07-17T23:51:24.712704Z"
    },
    "papermill": {
     "duration": 0.017953,
     "end_time": "2025-07-17T23:51:24.715381",
     "exception": false,
     "start_time": "2025-07-17T23:51:24.697428",
     "status": "completed"
    },
    "tags": []
   },
   "outputs": [],
   "source": [
    "# 处理缺失值 / Handling missing value\n",
    "products['product_category_name'] = products['product_category_name'].fillna(\"unknown\")"
   ]
  },
  {
   "cell_type": "code",
   "execution_count": 6,
   "id": "c4276a3d",
   "metadata": {
    "execution": {
     "iopub.execute_input": "2025-07-17T23:51:24.731738Z",
     "iopub.status.busy": "2025-07-17T23:51:24.731391Z",
     "iopub.status.idle": "2025-07-17T23:51:24.840217Z",
     "shell.execute_reply": "2025-07-17T23:51:24.839197Z"
    },
    "papermill": {
     "duration": 0.118996,
     "end_time": "2025-07-17T23:51:24.842123",
     "exception": false,
     "start_time": "2025-07-17T23:51:24.723127",
     "status": "completed"
    },
    "tags": []
   },
   "outputs": [
    {
     "name": "stdout",
     "output_type": "stream",
     "text": [
      "<class 'pandas.core.frame.DataFrame'>\n",
      "RangeIndex: 99441 entries, 0 to 99440\n",
      "Data columns (total 3 columns):\n",
      " #   Column              Non-Null Count  Dtype \n",
      "---  ------              --------------  ----- \n",
      " 0   customer_id         99441 non-null  object\n",
      " 1   customer_unique_id  99441 non-null  object\n",
      " 2   customer_state      99441 non-null  object\n",
      "dtypes: object(3)\n",
      "memory usage: 2.3+ MB\n",
      "None\n",
      "-----------------------------------------------------------------\n",
      "<class 'pandas.core.frame.DataFrame'>\n",
      "RangeIndex: 99441 entries, 0 to 99440\n",
      "Data columns (total 3 columns):\n",
      " #   Column                    Non-Null Count  Dtype \n",
      "---  ------                    --------------  ----- \n",
      " 0   order_id                  99441 non-null  object\n",
      " 1   customer_id               99441 non-null  object\n",
      " 2   order_purchase_timestamp  99441 non-null  object\n",
      "dtypes: object(3)\n",
      "memory usage: 2.3+ MB\n",
      "None\n",
      "-----------------------------------------------------------------\n",
      "<class 'pandas.core.frame.DataFrame'>\n",
      "RangeIndex: 103886 entries, 0 to 103885\n",
      "Data columns (total 3 columns):\n",
      " #   Column         Non-Null Count   Dtype  \n",
      "---  ------         --------------   -----  \n",
      " 0   order_id       103886 non-null  object \n",
      " 1   payment_value  103886 non-null  float64\n",
      " 2   payment_type   103886 non-null  object \n",
      "dtypes: float64(1), object(2)\n",
      "memory usage: 2.4+ MB\n",
      "None\n",
      "-----------------------------------------------------------------\n",
      "<class 'pandas.core.frame.DataFrame'>\n",
      "RangeIndex: 112650 entries, 0 to 112649\n",
      "Data columns (total 2 columns):\n",
      " #   Column      Non-Null Count   Dtype \n",
      "---  ------      --------------   ----- \n",
      " 0   order_id    112650 non-null  object\n",
      " 1   product_id  112650 non-null  object\n",
      "dtypes: object(2)\n",
      "memory usage: 1.7+ MB\n",
      "None\n",
      "-----------------------------------------------------------------\n",
      "<class 'pandas.core.frame.DataFrame'>\n",
      "RangeIndex: 32951 entries, 0 to 32950\n",
      "Data columns (total 2 columns):\n",
      " #   Column                 Non-Null Count  Dtype \n",
      "---  ------                 --------------  ----- \n",
      " 0   product_id             32951 non-null  object\n",
      " 1   product_category_name  32951 non-null  object\n",
      "dtypes: object(2)\n",
      "memory usage: 515.0+ KB\n",
      "None\n",
      "-----------------------------------------------------------------\n"
     ]
    }
   ],
   "source": [
    "# 只保留必要字段 / Select only required columns\n",
    "customers = customers[['customer_id', 'customer_unique_id', 'customer_state']]\n",
    "orders = orders[['order_id', 'customer_id', 'order_purchase_timestamp']]\n",
    "payments = payments[['order_id', 'payment_value', 'payment_type']]\n",
    "order_items = order_items[['order_id', 'product_id']]\n",
    "products = products[['product_id', 'product_category_name']]\n",
    "\n",
    "for df in [customers, orders, payments, order_items, products]: \n",
    "    print(df.info())\n",
    "    print(\"-----------------------------------------------------------------\")"
   ]
  },
  {
   "cell_type": "code",
   "execution_count": 7,
   "id": "56d12ec5",
   "metadata": {
    "execution": {
     "iopub.execute_input": "2025-07-17T23:51:24.858765Z",
     "iopub.status.busy": "2025-07-17T23:51:24.858504Z",
     "iopub.status.idle": "2025-07-17T23:51:24.893891Z",
     "shell.execute_reply": "2025-07-17T23:51:24.892937Z"
    },
    "papermill": {
     "duration": 0.045618,
     "end_time": "2025-07-17T23:51:24.895565",
     "exception": false,
     "start_time": "2025-07-17T23:51:24.849947",
     "status": "completed"
    },
    "tags": []
   },
   "outputs": [],
   "source": [
    "# 转换订单的时间列为 datetime / Convert order timestamp columns to datetime\n",
    "orders['order_purchase_timestamp'] = pd.to_datetime(orders['order_purchase_timestamp'])"
   ]
  },
  {
   "cell_type": "markdown",
   "id": "52c38e6d",
   "metadata": {
    "papermill": {
     "duration": 0.008733,
     "end_time": "2025-07-17T23:51:24.912129",
     "exception": false,
     "start_time": "2025-07-17T23:51:24.903396",
     "status": "completed"
    },
    "tags": []
   },
   "source": [
    "### 2.2 合并核心表格 / Merge core tables"
   ]
  },
  {
   "cell_type": "code",
   "execution_count": 8,
   "id": "86ce50db",
   "metadata": {
    "execution": {
     "iopub.execute_input": "2025-07-17T23:51:24.929367Z",
     "iopub.status.busy": "2025-07-17T23:51:24.929092Z",
     "iopub.status.idle": "2025-07-17T23:51:25.148067Z",
     "shell.execute_reply": "2025-07-17T23:51:25.147276Z"
    },
    "papermill": {
     "duration": 0.22918,
     "end_time": "2025-07-17T23:51:25.149492",
     "exception": false,
     "start_time": "2025-07-17T23:51:24.920312",
     "status": "completed"
    },
    "tags": []
   },
   "outputs": [],
   "source": [
    "# 合并 orders 与 payments / Merge orders & payments\n",
    "orders_payments = orders.merge(payments, on='order_id', how='left')\n",
    "\n",
    "# 合并 customers 获取 unique_id 和地区 / Merge customers for unique_id & state\n",
    "orders_payments = orders_payments.merge(\n",
    "    customers, on='customer_id', how='left'\n",
    ")\n",
    "\n",
    "# 合并 order_items 与 products，后续可聚合品类特征 / Merge order_items & products for category\n",
    "order_items_products = order_items.merge(\n",
    "    products, on='product_id', how='left'\n",
    ")"
   ]
  },
  {
   "cell_type": "code",
   "execution_count": 9,
   "id": "4d1f24e3",
   "metadata": {
    "execution": {
     "iopub.execute_input": "2025-07-17T23:51:25.166949Z",
     "iopub.status.busy": "2025-07-17T23:51:25.166560Z",
     "iopub.status.idle": "2025-07-17T23:51:25.218738Z",
     "shell.execute_reply": "2025-07-17T23:51:25.217589Z"
    },
    "papermill": {
     "duration": 0.062846,
     "end_time": "2025-07-17T23:51:25.220522",
     "exception": false,
     "start_time": "2025-07-17T23:51:25.157676",
     "status": "completed"
    },
    "tags": []
   },
   "outputs": [
    {
     "name": "stdout",
     "output_type": "stream",
     "text": [
      "order_id                    0\n",
      "customer_id                 0\n",
      "order_purchase_timestamp    0\n",
      "payment_value               1\n",
      "payment_type                1\n",
      "customer_unique_id          0\n",
      "customer_state              0\n",
      "dtype: int64\n",
      "----------------------------------\n",
      "order_id                 0\n",
      "product_id               0\n",
      "product_category_name    0\n",
      "dtype: int64\n"
     ]
    }
   ],
   "source": [
    "# 检查 merge 后可能出现的缺失值 / Check possible missing values after merge\n",
    "print(orders_payments.isnull().sum())\n",
    "print(\"----------------------------------\")\n",
    "print(order_items_products.isnull().sum())"
   ]
  },
  {
   "cell_type": "markdown",
   "id": "0289c780",
   "metadata": {
    "papermill": {
     "duration": 0.007415,
     "end_time": "2025-07-17T23:51:25.235762",
     "exception": false,
     "start_time": "2025-07-17T23:51:25.228347",
     "status": "completed"
    },
    "tags": []
   },
   "source": [
    "可以看到 merge 之后存在缺失值的情况。这里，我们打算用下面的策略来填补：\n",
    "\n",
    "- 对于 `payment_type`：将缺失值填补为 `\"unknown\"`，表示该订单缺少支付方式信息；\n",
    "- 对于 `payment_value`：我们使用对应 `customer_state` 的中位数进行填补，假设不同地区用户的支付金额存在结构性差异。\n",
    "\n",
    "---\n",
    "\n",
    "We observe that there are missing values after merging the tables. To address this, we apply the following imputation strategies:\n",
    "\n",
    "- For `payment_type`: Missing values are filled with `\"unknown\"` to indicate that no payment method was recorded for the order;\n",
    "- For `payment_value`: Missing values are imputed using the median payment value for the corresponding `customer_state`, assuming regional differences in customer payment behavior."
   ]
  },
  {
   "cell_type": "code",
   "execution_count": 10,
   "id": "b6df93c4",
   "metadata": {
    "execution": {
     "iopub.execute_input": "2025-07-17T23:51:25.252285Z",
     "iopub.status.busy": "2025-07-17T23:51:25.252028Z",
     "iopub.status.idle": "2025-07-17T23:51:25.267852Z",
     "shell.execute_reply": "2025-07-17T23:51:25.266912Z"
    },
    "papermill": {
     "duration": 0.026067,
     "end_time": "2025-07-17T23:51:25.269474",
     "exception": false,
     "start_time": "2025-07-17T23:51:25.243407",
     "status": "completed"
    },
    "tags": []
   },
   "outputs": [],
   "source": [
    "# 计算每个 customer_state 对应的 payment_value 中位数\n",
    "# Compute median payment_value per customer_state\n",
    "state_medians = (\n",
    "    orders_payments\n",
    "    .groupby('customer_state')['payment_value']\n",
    "    .median()\n",
    ")\n",
    "\n",
    "# 定义填补函数\n",
    "# Define imputation function based only on customer_state\n",
    "def fill_by_state(row):\n",
    "    if pd.notnull(row['payment_value']):\n",
    "        return row['payment_value']\n",
    "    \n",
    "    state = row['customer_state']\n",
    "    \n",
    "    # 如果 state 存在中位数，填入；否则使用全局中位数或 0\n",
    "    if state in state_medians.index:\n",
    "        return state_medians.loc[state]\n",
    "    return orders_payments['payment_value'].median()  # or return 0"
   ]
  },
  {
   "cell_type": "code",
   "execution_count": 11,
   "id": "a73d3e2d",
   "metadata": {
    "execution": {
     "iopub.execute_input": "2025-07-17T23:51:25.286754Z",
     "iopub.status.busy": "2025-07-17T23:51:25.286465Z",
     "iopub.status.idle": "2025-07-17T23:51:26.351545Z",
     "shell.execute_reply": "2025-07-17T23:51:26.350528Z"
    },
    "papermill": {
     "duration": 1.07556,
     "end_time": "2025-07-17T23:51:26.353015",
     "exception": false,
     "start_time": "2025-07-17T23:51:25.277455",
     "status": "completed"
    },
    "tags": []
   },
   "outputs": [
    {
     "name": "stdout",
     "output_type": "stream",
     "text": [
      "order_id                    0\n",
      "customer_id                 0\n",
      "order_purchase_timestamp    0\n",
      "payment_value               0\n",
      "payment_type                0\n",
      "customer_unique_id          0\n",
      "customer_state              0\n",
      "dtype: int64\n"
     ]
    }
   ],
   "source": [
    "# 处理缺失值 / Handling missing value\n",
    "orders_payments['payment_type'] = orders_payments['payment_type'].fillna(\"unknown\")\n",
    "orders_payments['payment_value'] = orders_payments.apply(fill_by_state, axis=1)\n",
    "print(orders_payments.isnull().sum())"
   ]
  },
  {
   "cell_type": "markdown",
   "id": "df5b69fb",
   "metadata": {
    "papermill": {
     "duration": 0.007654,
     "end_time": "2025-07-17T23:51:26.369926",
     "exception": false,
     "start_time": "2025-07-17T23:51:26.362272",
     "status": "completed"
    },
    "tags": []
   },
   "source": [
    "### 2.3 生成 RFM 特征 / Prepare RFM features"
   ]
  },
  {
   "cell_type": "code",
   "execution_count": 12,
   "id": "575a1e3c",
   "metadata": {
    "execution": {
     "iopub.execute_input": "2025-07-17T23:51:26.387004Z",
     "iopub.status.busy": "2025-07-17T23:51:26.386591Z",
     "iopub.status.idle": "2025-07-17T23:51:33.450642Z",
     "shell.execute_reply": "2025-07-17T23:51:33.449874Z"
    },
    "papermill": {
     "duration": 7.074432,
     "end_time": "2025-07-17T23:51:33.452207",
     "exception": false,
     "start_time": "2025-07-17T23:51:26.377775",
     "status": "completed"
    },
    "tags": []
   },
   "outputs": [
    {
     "data": {
      "text/html": [
       "<div>\n",
       "<style scoped>\n",
       "    .dataframe tbody tr th:only-of-type {\n",
       "        vertical-align: middle;\n",
       "    }\n",
       "\n",
       "    .dataframe tbody tr th {\n",
       "        vertical-align: top;\n",
       "    }\n",
       "\n",
       "    .dataframe thead th {\n",
       "        text-align: right;\n",
       "    }\n",
       "</style>\n",
       "<table border=\"1\" class=\"dataframe\">\n",
       "  <thead>\n",
       "    <tr style=\"text-align: right;\">\n",
       "      <th></th>\n",
       "      <th>customer_unique_id</th>\n",
       "      <th>R</th>\n",
       "      <th>F</th>\n",
       "      <th>M</th>\n",
       "    </tr>\n",
       "  </thead>\n",
       "  <tbody>\n",
       "    <tr>\n",
       "      <th>0</th>\n",
       "      <td>0000366f3b9a7992bf8c76cfdf3221e2</td>\n",
       "      <td>160</td>\n",
       "      <td>1</td>\n",
       "      <td>141.90</td>\n",
       "    </tr>\n",
       "    <tr>\n",
       "      <th>1</th>\n",
       "      <td>0000b849f77a49e4a4ce2b2a4ca5be3f</td>\n",
       "      <td>163</td>\n",
       "      <td>1</td>\n",
       "      <td>27.19</td>\n",
       "    </tr>\n",
       "    <tr>\n",
       "      <th>2</th>\n",
       "      <td>0000f46a3911fa3c0805444483337064</td>\n",
       "      <td>585</td>\n",
       "      <td>1</td>\n",
       "      <td>86.22</td>\n",
       "    </tr>\n",
       "    <tr>\n",
       "      <th>3</th>\n",
       "      <td>0000f6ccb0745a6a4b88665a16c9f078</td>\n",
       "      <td>369</td>\n",
       "      <td>1</td>\n",
       "      <td>43.62</td>\n",
       "    </tr>\n",
       "    <tr>\n",
       "      <th>4</th>\n",
       "      <td>0004aac84e0df4da2b147fca70cf8255</td>\n",
       "      <td>336</td>\n",
       "      <td>1</td>\n",
       "      <td>196.89</td>\n",
       "    </tr>\n",
       "  </tbody>\n",
       "</table>\n",
       "</div>"
      ],
      "text/plain": [
       "                 customer_unique_id    R  F       M\n",
       "0  0000366f3b9a7992bf8c76cfdf3221e2  160  1  141.90\n",
       "1  0000b849f77a49e4a4ce2b2a4ca5be3f  163  1   27.19\n",
       "2  0000f46a3911fa3c0805444483337064  585  1   86.22\n",
       "3  0000f6ccb0745a6a4b88665a16c9f078  369  1   43.62\n",
       "4  0004aac84e0df4da2b147fca70cf8255  336  1  196.89"
      ]
     },
     "execution_count": 12,
     "metadata": {},
     "output_type": "execute_result"
    }
   ],
   "source": [
    "# 计算基准日期 / Reference date = last purchase timestamp\n",
    "reference_date = orders_payments['order_purchase_timestamp'].max()\n",
    "\n",
    "# 按用户计算 R、F、M / Compute Recency, Frequency, Monetary\n",
    "rfm = (\n",
    "    orders_payments\n",
    "    .groupby('customer_unique_id')\n",
    "    .agg(\n",
    "        R = ('order_purchase_timestamp', lambda x: (reference_date - x.max()).days),\n",
    "        F = ('order_id', 'nunique'),\n",
    "        M = ('payment_value', 'sum')\n",
    "    )\n",
    "    .reset_index()\n",
    ")\n",
    "\n",
    "rfm.head()"
   ]
  },
  {
   "cell_type": "markdown",
   "id": "4e32027f",
   "metadata": {
    "papermill": {
     "duration": 0.007948,
     "end_time": "2025-07-17T23:51:33.468461",
     "exception": false,
     "start_time": "2025-07-17T23:51:33.460513",
     "status": "completed"
    },
    "tags": []
   },
   "source": [
    "### 2.4 应用 Scaler + 生成 K‑Means 簇标签 / Apply scaler & assign clusters"
   ]
  },
  {
   "cell_type": "code",
   "execution_count": 13,
   "id": "b3b713d2",
   "metadata": {
    "execution": {
     "iopub.execute_input": "2025-07-17T23:51:33.485646Z",
     "iopub.status.busy": "2025-07-17T23:51:33.485373Z",
     "iopub.status.idle": "2025-07-17T23:51:33.562796Z",
     "shell.execute_reply": "2025-07-17T23:51:33.561917Z"
    },
    "papermill": {
     "duration": 0.087955,
     "end_time": "2025-07-17T23:51:33.564506",
     "exception": false,
     "start_time": "2025-07-17T23:51:33.476551",
     "status": "completed"
    },
    "tags": []
   },
   "outputs": [
    {
     "data": {
      "text/html": [
       "<div>\n",
       "<style scoped>\n",
       "    .dataframe tbody tr th:only-of-type {\n",
       "        vertical-align: middle;\n",
       "    }\n",
       "\n",
       "    .dataframe tbody tr th {\n",
       "        vertical-align: top;\n",
       "    }\n",
       "\n",
       "    .dataframe thead th {\n",
       "        text-align: right;\n",
       "    }\n",
       "</style>\n",
       "<table border=\"1\" class=\"dataframe\">\n",
       "  <thead>\n",
       "    <tr style=\"text-align: right;\">\n",
       "      <th></th>\n",
       "      <th>customer_unique_id</th>\n",
       "      <th>R</th>\n",
       "      <th>F</th>\n",
       "      <th>M</th>\n",
       "      <th>R_z</th>\n",
       "      <th>F_z</th>\n",
       "      <th>M_z</th>\n",
       "      <th>cluster</th>\n",
       "    </tr>\n",
       "  </thead>\n",
       "  <tbody>\n",
       "    <tr>\n",
       "      <th>0</th>\n",
       "      <td>0000366f3b9a7992bf8c76cfdf3221e2</td>\n",
       "      <td>160</td>\n",
       "      <td>1</td>\n",
       "      <td>141.90</td>\n",
       "      <td>-0.832621</td>\n",
       "      <td>-0.162368</td>\n",
       "      <td>-0.106697</td>\n",
       "      <td>1</td>\n",
       "    </tr>\n",
       "    <tr>\n",
       "      <th>1</th>\n",
       "      <td>0000b849f77a49e4a4ce2b2a4ca5be3f</td>\n",
       "      <td>163</td>\n",
       "      <td>1</td>\n",
       "      <td>27.19</td>\n",
       "      <td>-0.813067</td>\n",
       "      <td>-0.162368</td>\n",
       "      <td>-0.602360</td>\n",
       "      <td>1</td>\n",
       "    </tr>\n",
       "    <tr>\n",
       "      <th>2</th>\n",
       "      <td>0000f46a3911fa3c0805444483337064</td>\n",
       "      <td>585</td>\n",
       "      <td>1</td>\n",
       "      <td>86.22</td>\n",
       "      <td>1.937662</td>\n",
       "      <td>-0.162368</td>\n",
       "      <td>-0.347291</td>\n",
       "      <td>0</td>\n",
       "    </tr>\n",
       "    <tr>\n",
       "      <th>3</th>\n",
       "      <td>0000f6ccb0745a6a4b88665a16c9f078</td>\n",
       "      <td>369</td>\n",
       "      <td>1</td>\n",
       "      <td>43.62</td>\n",
       "      <td>0.529706</td>\n",
       "      <td>-0.162368</td>\n",
       "      <td>-0.531366</td>\n",
       "      <td>0</td>\n",
       "    </tr>\n",
       "    <tr>\n",
       "      <th>4</th>\n",
       "      <td>0004aac84e0df4da2b147fca70cf8255</td>\n",
       "      <td>336</td>\n",
       "      <td>1</td>\n",
       "      <td>196.89</td>\n",
       "      <td>0.314602</td>\n",
       "      <td>-0.162368</td>\n",
       "      <td>0.130916</td>\n",
       "      <td>0</td>\n",
       "    </tr>\n",
       "  </tbody>\n",
       "</table>\n",
       "</div>"
      ],
      "text/plain": [
       "                 customer_unique_id    R  F       M       R_z       F_z  \\\n",
       "0  0000366f3b9a7992bf8c76cfdf3221e2  160  1  141.90 -0.832621 -0.162368   \n",
       "1  0000b849f77a49e4a4ce2b2a4ca5be3f  163  1   27.19 -0.813067 -0.162368   \n",
       "2  0000f46a3911fa3c0805444483337064  585  1   86.22  1.937662 -0.162368   \n",
       "3  0000f6ccb0745a6a4b88665a16c9f078  369  1   43.62  0.529706 -0.162368   \n",
       "4  0004aac84e0df4da2b147fca70cf8255  336  1  196.89  0.314602 -0.162368   \n",
       "\n",
       "        M_z  cluster  \n",
       "0 -0.106697        1  \n",
       "1 -0.602360        1  \n",
       "2 -0.347291        0  \n",
       "3 -0.531366        0  \n",
       "4  0.130916        0  "
      ]
     },
     "execution_count": 13,
     "metadata": {},
     "output_type": "execute_result"
    }
   ],
   "source": [
    "# 标准化 RFM 特征 / Scale RFM features\n",
    "rfm_raw = rfm.copy()\n",
    "rfm[['R_z', 'F_z', 'M_z']] = scaler.transform(rfm[['R', 'F', 'M']])\n",
    "\n",
    "# 预测簇标签并合并回 rfm / Predict cluster labels and merge back\n",
    "rfm['cluster'] = kmeans_model.predict(rfm[['R_z', 'F_z', 'M_z']])\n",
    "rfm.head()"
   ]
  },
  {
   "cell_type": "markdown",
   "id": "5e2f056e",
   "metadata": {
    "papermill": {
     "duration": 0.007893,
     "end_time": "2025-07-17T23:51:33.581124",
     "exception": false,
     "start_time": "2025-07-17T23:51:33.573231",
     "status": "completed"
    },
    "tags": []
   },
   "source": [
    "## 3. Cohort 留存分析 / Cohort Retention Analysis"
   ]
  },
  {
   "cell_type": "markdown",
   "id": "e269da5a",
   "metadata": {
    "papermill": {
     "duration": 0.00815,
     "end_time": "2025-07-17T23:51:33.598149",
     "exception": false,
     "start_time": "2025-07-17T23:51:33.589999",
     "status": "completed"
    },
    "tags": []
   },
   "source": [
    "### 3.1 定义 Cohort（首购月份） / Define cohorts by first purchase month"
   ]
  },
  {
   "cell_type": "code",
   "execution_count": 14,
   "id": "e65b202c",
   "metadata": {
    "_kg_hide-input": true,
    "execution": {
     "iopub.execute_input": "2025-07-17T23:51:33.616232Z",
     "iopub.status.busy": "2025-07-17T23:51:33.615966Z",
     "iopub.status.idle": "2025-07-17T23:51:33.821173Z",
     "shell.execute_reply": "2025-07-17T23:51:33.820052Z"
    },
    "papermill": {
     "duration": 0.215852,
     "end_time": "2025-07-17T23:51:33.822640",
     "exception": false,
     "start_time": "2025-07-17T23:51:33.606788",
     "status": "completed"
    },
    "tags": []
   },
   "outputs": [
    {
     "name": "stdout",
     "output_type": "stream",
     "text": [
      "重复购买率: 3.12%\n"
     ]
    }
   ],
   "source": [
    "order_counts = orders_payments.groupby('customer_unique_id')['order_id'].nunique()\n",
    "# 筛选出重复购买的用户（订单数 > 1）\n",
    "repeat_buyers = order_counts[order_counts > 1]\n",
    "# 统计重复购买用户数量\n",
    "num_repeat_buyers = repeat_buyers.shape[0]\n",
    "# 重复购买率\n",
    "total_users = order_counts.shape[0]\n",
    "repeat_rate = num_repeat_buyers / total_users\n",
    "print(f'重复购买率: {repeat_rate:.2%}')"
   ]
  },
  {
   "cell_type": "code",
   "execution_count": 15,
   "id": "76443072",
   "metadata": {
    "execution": {
     "iopub.execute_input": "2025-07-17T23:51:33.841600Z",
     "iopub.status.busy": "2025-07-17T23:51:33.841327Z",
     "iopub.status.idle": "2025-07-17T23:51:34.133124Z",
     "shell.execute_reply": "2025-07-17T23:51:34.132300Z"
    },
    "papermill": {
     "duration": 0.303191,
     "end_time": "2025-07-17T23:51:34.134789",
     "exception": false,
     "start_time": "2025-07-17T23:51:33.831598",
     "status": "completed"
    },
    "tags": []
   },
   "outputs": [],
   "source": [
    "# 创建订单月份字段 / extract order month\n",
    "orders_payments['order_month'] = orders_payments['order_purchase_timestamp'].dt.to_period('M').dt.to_timestamp()\n",
    "# 用户首购月份 / cohort month per user\n",
    "cohort_df = (\n",
    "    orders_payments\n",
    "    .groupby('customer_unique_id')['order_month']\n",
    "    .min()\n",
    "    .reset_index()\n",
    "    .rename(columns={'order_month': 'cohort_month'})\n",
    ")\n",
    "# 合并 cohort_month / merge back\n",
    "orders_payments = orders_payments.merge(cohort_df, on='customer_unique_id', how='left')"
   ]
  },
  {
   "cell_type": "markdown",
   "id": "eb47bc33",
   "metadata": {
    "papermill": {
     "duration": 0.007692,
     "end_time": "2025-07-17T23:51:34.150790",
     "exception": false,
     "start_time": "2025-07-17T23:51:34.143098",
     "status": "completed"
    },
    "tags": []
   },
   "source": [
    "### 3.2 计算每期留存率 / Calculate retention rates"
   ]
  },
  {
   "cell_type": "code",
   "execution_count": 16,
   "id": "6e077754",
   "metadata": {
    "execution": {
     "iopub.execute_input": "2025-07-17T23:51:34.168049Z",
     "iopub.status.busy": "2025-07-17T23:51:34.167734Z",
     "iopub.status.idle": "2025-07-17T23:51:34.445361Z",
     "shell.execute_reply": "2025-07-17T23:51:34.444626Z"
    },
    "papermill": {
     "duration": 0.288179,
     "end_time": "2025-07-17T23:51:34.446950",
     "exception": false,
     "start_time": "2025-07-17T23:51:34.158771",
     "status": "completed"
    },
    "tags": []
   },
   "outputs": [],
   "source": [
    "# 计算用户在每个订单的“期数” / period number since cohort\n",
    "orders_payments['period_number'] = (\n",
    "    (orders_payments['order_month'].dt.year - orders_payments['cohort_month'].dt.year) * 12 +\n",
    "    (orders_payments['order_month'].dt.month - orders_payments['cohort_month'].dt.month)\n",
    ")\n",
    "\n",
    "# 去重：每用户每期只算一次 / drop duplicate user-period\n",
    "user_period = orders_payments.drop_duplicates(\n",
    "    ['customer_unique_id', 'cohort_month', 'period_number']\n",
    ")\n",
    "\n",
    "# 引入簇标签 / attach cluster\n",
    "user_period = user_period.merge(\n",
    "    rfm[['customer_unique_id', 'cluster']],\n",
    "    on='customer_unique_id', how='left'\n",
    ")\n",
    "\n",
    "# 计算基期用户数 / number of users in period 0 for each cohort & cluster\n",
    "cohort_sizes = (\n",
    "    user_period[user_period['period_number'] == 0]\n",
    "    .groupby(['cohort_month', 'cluster'])['customer_unique_id']\n",
    "    .nunique()\n",
    "    .reset_index(name='n_users')\n",
    ")\n",
    "\n",
    "# 计算每期活跃用户数 / active users per period\n",
    "retention_counts = (\n",
    "    user_period\n",
    "    .groupby(['cohort_month', 'cluster', 'period_number'])['customer_unique_id']\n",
    "    .nunique()\n",
    "    .reset_index(name='active_users')\n",
    ")\n",
    "\n",
    "# 合并并计算留存率 / merge and compute retention rate\n",
    "retention = retention_counts.merge(\n",
    "    cohort_sizes, on=['cohort_month', 'cluster']\n",
    ")\n",
    "retention['retention_rate'] = retention['active_users'] / retention['n_users']"
   ]
  },
  {
   "cell_type": "code",
   "execution_count": 17,
   "id": "11beab74",
   "metadata": {
    "execution": {
     "iopub.execute_input": "2025-07-17T23:51:34.464985Z",
     "iopub.status.busy": "2025-07-17T23:51:34.464159Z",
     "iopub.status.idle": "2025-07-17T23:51:34.473323Z",
     "shell.execute_reply": "2025-07-17T23:51:34.472388Z"
    },
    "papermill": {
     "duration": 0.019712,
     "end_time": "2025-07-17T23:51:34.474849",
     "exception": false,
     "start_time": "2025-07-17T23:51:34.455137",
     "status": "completed"
    },
    "tags": []
   },
   "outputs": [
    {
     "data": {
      "text/html": [
       "<div>\n",
       "<style scoped>\n",
       "    .dataframe tbody tr th:only-of-type {\n",
       "        vertical-align: middle;\n",
       "    }\n",
       "\n",
       "    .dataframe tbody tr th {\n",
       "        vertical-align: top;\n",
       "    }\n",
       "\n",
       "    .dataframe thead th {\n",
       "        text-align: right;\n",
       "    }\n",
       "</style>\n",
       "<table border=\"1\" class=\"dataframe\">\n",
       "  <thead>\n",
       "    <tr style=\"text-align: right;\">\n",
       "      <th></th>\n",
       "      <th>cohort_month</th>\n",
       "      <th>cluster</th>\n",
       "      <th>period_number</th>\n",
       "      <th>active_users</th>\n",
       "      <th>n_users</th>\n",
       "      <th>retention_rate</th>\n",
       "    </tr>\n",
       "  </thead>\n",
       "  <tbody>\n",
       "    <tr>\n",
       "      <th>0</th>\n",
       "      <td>2016-09-01</td>\n",
       "      <td>0</td>\n",
       "      <td>0</td>\n",
       "      <td>4</td>\n",
       "      <td>4</td>\n",
       "      <td>1.000000</td>\n",
       "    </tr>\n",
       "    <tr>\n",
       "      <th>1</th>\n",
       "      <td>2016-10-01</td>\n",
       "      <td>0</td>\n",
       "      <td>0</td>\n",
       "      <td>302</td>\n",
       "      <td>302</td>\n",
       "      <td>1.000000</td>\n",
       "    </tr>\n",
       "    <tr>\n",
       "      <th>2</th>\n",
       "      <td>2016-10-01</td>\n",
       "      <td>2</td>\n",
       "      <td>0</td>\n",
       "      <td>12</td>\n",
       "      <td>12</td>\n",
       "      <td>1.000000</td>\n",
       "    </tr>\n",
       "    <tr>\n",
       "      <th>3</th>\n",
       "      <td>2016-10-01</td>\n",
       "      <td>2</td>\n",
       "      <td>6</td>\n",
       "      <td>1</td>\n",
       "      <td>12</td>\n",
       "      <td>0.083333</td>\n",
       "    </tr>\n",
       "    <tr>\n",
       "      <th>4</th>\n",
       "      <td>2016-10-01</td>\n",
       "      <td>2</td>\n",
       "      <td>9</td>\n",
       "      <td>1</td>\n",
       "      <td>12</td>\n",
       "      <td>0.083333</td>\n",
       "    </tr>\n",
       "  </tbody>\n",
       "</table>\n",
       "</div>"
      ],
      "text/plain": [
       "  cohort_month  cluster  period_number  active_users  n_users  retention_rate\n",
       "0   2016-09-01        0              0             4        4        1.000000\n",
       "1   2016-10-01        0              0           302      302        1.000000\n",
       "2   2016-10-01        2              0            12       12        1.000000\n",
       "3   2016-10-01        2              6             1       12        0.083333\n",
       "4   2016-10-01        2              9             1       12        0.083333"
      ]
     },
     "execution_count": 17,
     "metadata": {},
     "output_type": "execute_result"
    }
   ],
   "source": [
    "retention.head()"
   ]
  },
  {
   "cell_type": "markdown",
   "id": "daead35f",
   "metadata": {
    "papermill": {
     "duration": 0.00866,
     "end_time": "2025-07-17T23:51:34.492132",
     "exception": false,
     "start_time": "2025-07-17T23:51:34.483472",
     "status": "completed"
    },
    "tags": []
   },
   "source": [
    "### 3.3 按 K‑Means 簇拆分留存对比 / Compare retention by cluster"
   ]
  },
  {
   "cell_type": "code",
   "execution_count": 18,
   "id": "c247592c",
   "metadata": {
    "execution": {
     "iopub.execute_input": "2025-07-17T23:51:34.510566Z",
     "iopub.status.busy": "2025-07-17T23:51:34.510288Z",
     "iopub.status.idle": "2025-07-17T23:51:34.515325Z",
     "shell.execute_reply": "2025-07-17T23:51:34.514653Z"
    },
    "papermill": {
     "duration": 0.015987,
     "end_time": "2025-07-17T23:51:34.516914",
     "exception": false,
     "start_time": "2025-07-17T23:51:34.500927",
     "status": "completed"
    },
    "tags": []
   },
   "outputs": [],
   "source": [
    "# 过滤期数（ 0–12月 ） / limit to first year\n",
    "retention = retention[retention['period_number'] <= 12]"
   ]
  },
  {
   "cell_type": "markdown",
   "id": "e147aafa",
   "metadata": {
    "papermill": {
     "duration": 0.008377,
     "end_time": "2025-07-17T23:51:34.533748",
     "exception": false,
     "start_time": "2025-07-17T23:51:34.525371",
     "status": "completed"
    },
    "tags": []
   },
   "source": [
    "### 3.4 可视化留存热力图 / Visualize retention heatmap"
   ]
  },
  {
   "cell_type": "code",
   "execution_count": 19,
   "id": "4d7b1f8b",
   "metadata": {
    "execution": {
     "iopub.execute_input": "2025-07-17T23:51:34.551943Z",
     "iopub.status.busy": "2025-07-17T23:51:34.551579Z",
     "iopub.status.idle": "2025-07-17T23:51:36.111452Z",
     "shell.execute_reply": "2025-07-17T23:51:36.110379Z"
    },
    "papermill": {
     "duration": 1.570916,
     "end_time": "2025-07-17T23:51:36.113260",
     "exception": false,
     "start_time": "2025-07-17T23:51:34.542344",
     "status": "completed"
    },
    "tags": []
   },
   "outputs": [
    {
     "data": {
      "image/png": "[encoded data removed]",
      "text/plain": [
       "<Figure size 1000x600 with 2 Axes>"
      ]
     },
     "metadata": {},
     "output_type": "display_data"
    },
    {
     "data": {
      "image/png": "[encoded data removed]",
      "text/plain": [
       "<Figure size 1000x600 with 2 Axes>"
      ]
     },
     "metadata": {},
     "output_type": "display_data"
    },
    {
     "name": "stderr",
     "output_type": "stream",
     "text": [
      "/usr/local/lib/python3.11/dist-packages/matplotlib/colors.py:721: RuntimeWarning: invalid value encountered in less\n",
      "  xa[xa < 0] = -1\n"
     ]
    },
    {
     "data": {
      "image/png": "[encoded data removed]",
      "text/plain": [
       "<Figure size 1000x600 with 2 Axes>"
      ]
     },
     "metadata": {},
     "output_type": "display_data"
    },
    {
     "name": "stderr",
     "output_type": "stream",
     "text": [
      "/usr/local/lib/python3.11/dist-packages/matplotlib/colors.py:721: RuntimeWarning: invalid value encountered in less\n",
      "  xa[xa < 0] = -1\n"
     ]
    },
    {
     "data": {
      "image/png": "[encoded data removed]",
      "text/plain": [
       "<Figure size 1000x600 with 2 Axes>"
      ]
     },
     "metadata": {},
     "output_type": "display_data"
    }
   ],
   "source": [
    "# 为每个 cluster 绘制热力图 / loop clusters\n",
    "for cl in sorted(retention['cluster'].unique()):\n",
    "    sub = retention[retention['cluster'] == cl].copy()\n",
    "    sub['cohort_month'] = sub['cohort_month'].dt.to_period('M').astype(str)\n",
    "    pivot = sub.pivot(index='cohort_month', columns='period_number', values='retention_rate')\n",
    "    # pivot = pivot.fillna(0)\n",
    "    plt.figure(figsize=(10, 6))\n",
    "    sns.heatmap(pivot, annot=True, fmt=\".0%\", cmap='YlGnBu', mask=pivot.isnull())\n",
    "    plt.title(f'Cluster {cl} Cohort Retention')\n",
    "    plt.ylabel('Cohort Month')\n",
    "    plt.xlabel('Months Since Cohort')\n",
    "    plt.show()"
   ]
  },
  {
   "cell_type": "code",
   "execution_count": 20,
   "id": "610c2be8",
   "metadata": {
    "execution": {
     "iopub.execute_input": "2025-07-17T23:51:36.143464Z",
     "iopub.status.busy": "2025-07-17T23:51:36.143169Z",
     "iopub.status.idle": "2025-07-17T23:51:36.166075Z",
     "shell.execute_reply": "2025-07-17T23:51:36.165052Z"
    },
    "papermill": {
     "duration": 0.039437,
     "end_time": "2025-07-17T23:51:36.167506",
     "exception": false,
     "start_time": "2025-07-17T23:51:36.128069",
     "status": "completed"
    },
    "tags": []
   },
   "outputs": [
    {
     "name": "stdout",
     "output_type": "stream",
     "text": [
      "Cluster 0:\n",
      "   period_number  avg_retention_rate\n",
      "0              0                 1.0\n",
      "========================================\n",
      "Cluster 1:\n",
      "   period_number  avg_retention_rate\n",
      "0              0                 1.0\n",
      "========================================\n",
      "Cluster 2:\n",
      "    period_number  avg_retention_rate\n",
      "0               0            1.000000\n",
      "1               1            0.201917\n",
      "2               2            0.094717\n",
      "3               3            0.071690\n",
      "4               4            0.067504\n",
      "5               5            0.053421\n",
      "6               6            0.059035\n",
      "7               7            0.049019\n",
      "8               8            0.049072\n",
      "9               9            0.043716\n",
      "10             10            0.052900\n",
      "11             11            0.046611\n",
      "12             12            0.041562\n",
      "========================================\n",
      "Cluster 3:\n",
      "   period_number  avg_retention_rate\n",
      "0              0            1.000000\n",
      "1              1            0.013365\n",
      "2              2            0.010064\n",
      "3              3            0.005128\n",
      "4              5            0.014085\n",
      "5              6            0.013487\n",
      "========================================\n"
     ]
    }
   ],
   "source": [
    "# 为每个簇计算每期的平均留存率 / Calculate average retention rate per period for each cluster\n",
    "for cl in sorted(retention['cluster'].unique()):\n",
    "    sub = retention[retention['cluster'] == cl].copy()\n",
    "    sub['cohort_month'] = sub['cohort_month'].dt.to_period('M').astype(str)\n",
    "    avg_retention_rate = (\n",
    "        sub.groupby(['period_number'])['retention_rate'].mean().reset_index(name=\"avg_retention_rate\")\n",
    "    )\n",
    "    print(f\"Cluster {cl}:\")\n",
    "    print(avg_retention_rate)\n",
    "    print(\"========================================\")"
   ]
  },
  {
   "cell_type": "markdown",
   "id": "eb64a942",
   "metadata": {
    "papermill": {
     "duration": 0.013696,
     "end_time": "2025-07-17T23:51:36.194867",
     "exception": false,
     "start_time": "2025-07-17T23:51:36.181171",
     "status": "completed"
    },
    "tags": []
   },
   "source": [
    "### 洞察 / Insights"
   ]
  },
  {
   "cell_type": "markdown",
   "id": "df2f0336",
   "metadata": {
    "papermill": {
     "duration": 0.013929,
     "end_time": "2025-07-17T23:51:36.222998",
     "exception": false,
     "start_time": "2025-07-17T23:51:36.209069",
     "status": "completed"
    },
    "tags": []
   },
   "source": [
    "**簇 0 留存洞察：**\n",
    "\n",
    "- **留存表现 / Retention Behavior**  \n",
    "  - 期数 0（首月）留存 100%，之后所有期数复购率几乎为 0  \n",
    "  - 首购后即彻底流失，无二次行动迹象  \n",
    "\n",
    "- **画像回顾 / Profile Recap**  \n",
    "  - R ≈ 438 天：最后一次购买时间非常久远  \n",
    "  - F = 1 笔：仅发生过一次交易  \n",
    "  - M ≈ 135 元：低客单价  \n",
    "\n",
    "- **运营建议 / Actionable Recommendations**  \n",
    "  1. **深度“回流”优惠**：用户已流失一年以上，直接用“重回有礼”超大幅度折扣（如 $50\\%$ + 包邮）刺激一次性回购\n",
    "  2. **品牌唤醒广告**：在微信/社交媒体投放品牌回访广告，重新激发认知  \n",
    "  3. **流失原因调研**：发放“流失调查”问卷，小规模采样获取用户痛点，为后续改版提供依据  \n",
    "\n",
    "---\n",
    "\n",
    "**簇 1 留存洞察：**\n",
    "\n",
    "- **留存表现 / Retention Behavior**  \n",
    "  - 期数 0 留存 100%，之后基本无复购，与簇 0 保持一致  \n",
    "  - 不过首购距今仅 ~177 天，品牌记忆尚未完全消退  \n",
    "\n",
    "- **画像回顾 / Profile Recap**  \n",
    "  - R ≈ 177 天：最近一次购买约半年之前  \n",
    "  - F = 1 笔：仅有单次消费  \n",
    "  - M ≈ 135 元：低客单价  \n",
    "\n",
    "- **运营建议 / Actionable Recommendations**  \n",
    "  1. **“半年关怀”专属触达**：在第 180 天节点推送“周年回馈”优惠券（如 15% OFF／满减券），抓住品牌还留存印象的窗口\n",
    "  2. **个性化召回**：根据用户首次购买品类，推荐相似或补充产品，利用 短信/推送通知 精准触达  \n",
    "  3. **免邮/小额优惠**：赠送一次“免邮券”或“小额返现券”（如满 100 元返 10 元），降低用户回购门槛\n",
    "\n",
    "---\n",
    "\n",
    "**簇 2 留存洞察：**\n",
    "\n",
    "- **留存表现**  \n",
    "  - 第 1 期（月）平均留存 ~20.2%：约五分之一的用户在首月复购  \n",
    "  - 第 2 期（月）~9.5%，第 3 期 ~7.2%，第 4 期 ~6.8%：复购率迅速回落至中下水平  \n",
    "  - 第 5–6 期维持在 ~5–6%：形成稳定的中期复购 “中坚” 群体  \n",
    "  - 第 7–12 期长尾留存 ~4–5%：少量高粘性用户持续贡献价值  \n",
    "\n",
    "- **画像回顾**  \n",
    "  - R ≈ 268 天：用户距离最后一次购买较长  \n",
    "  - F ≈ 2.1 笔：平均发生 2 次以上交易  \n",
    "  - M ≈ 290 元：中等消费水平  \n",
    "\n",
    "- **运营建议**  \n",
    "  1. **首月深度运营**：第 1 期后留存率最大（20%），可在 0–30 天内推「组合优惠包」或「满减券」，提升第 2 次交易意愿  \n",
    "  2. **中期粘性培养**：第 2–4 期（6–12 周）进行积分激励或小额专属折扣，稳固中期活跃用户  \n",
    "  3. **长尾价值挖掘**：对第 5 期后依旧活跃的 ~5% 用户，重点推荐新品或 VIP 专属权益，激励其成为品牌忠实用户  \n",
    "  4. **差异化测试**：基于地域或品类偏好，A/B 测试不同优惠形式（满减 vs. 捆绑）和渠道（App 推送 vs. EDM），找到对复购影响最大的方案  \n",
    "\n",
    "---\n",
    "\n",
    "**簇 3 留存洞察：**\n",
    "\n",
    "- **留存表现 / Retention Behavior**  \n",
    "  - 第 1 期（月）留存 ~1.34%、第 2 期 ~1.01%、第 3 期 ~0.51%：首月之后几乎不复购  \n",
    "  - 第 5–6 期小幅回升至 ~1.35–1.41%：少数用户在中长期出现二次高额购买  \n",
    "\n",
    "- **画像回顾 / Profile Recap**  \n",
    "  - R ≈ 288 天：较久未复购，但并非完全流失  \n",
    "  - F = 1 笔：以单次高额消费为主  \n",
    "  - M ≈ 1,196 元：一次性大额客单  \n",
    "\n",
    "- **运营建议 / Actionable Recommendations**  \n",
    "  1. **高端定制关怀**：在第 4–5 月节点推送专属 VIP 权益（如新品预览、免费配送），利用二次购高价值用户的平均复购时机  \n",
    "  2. **个性化推荐**：基于首单品类和所处地区，精准推送相似或升级款产品  \n",
    "  3. **会员/礼遇升级**：对 Cluster 3 用户开放限时邀请制会员或积分加速通道，强化品牌黏性  \n",
    "  4. **高触达渠道**：电话/微信专属客服或一对一邮件，提高高净值用户的专属感与二次购买意愿  \n"
   ]
  },
  {
   "cell_type": "markdown",
   "id": "bbb850ac",
   "metadata": {
    "papermill": {
     "duration": 0.014373,
     "end_time": "2025-07-17T23:51:36.251773",
     "exception": false,
     "start_time": "2025-07-17T23:51:36.237400",
     "status": "completed"
    },
    "tags": []
   },
   "source": [
    "## 4. 简版 LTV 预测 / Simplified LTV Prediction  "
   ]
  },
  {
   "cell_type": "markdown",
   "id": "aab8544d",
   "metadata": {
    "papermill": {
     "duration": 0.013555,
     "end_time": "2025-07-17T23:51:36.279734",
     "exception": false,
     "start_time": "2025-07-17T23:51:36.266179",
     "status": "completed"
    },
    "tags": []
   },
   "source": [
    "### 4.1 划分时间窗口 & 基于 cutoff_date 计算特征 / Split by cutoff_date & compute features"
   ]
  },
  {
   "cell_type": "code",
   "execution_count": 21,
   "id": "385ca4f3",
   "metadata": {
    "execution": {
     "iopub.execute_input": "2025-07-17T23:51:36.309221Z",
     "iopub.status.busy": "2025-07-17T23:51:36.308112Z",
     "iopub.status.idle": "2025-07-17T23:51:54.282046Z",
     "shell.execute_reply": "2025-07-17T23:51:54.281007Z"
    },
    "papermill": {
     "duration": 17.990326,
     "end_time": "2025-07-17T23:51:54.283647",
     "exception": false,
     "start_time": "2025-07-17T23:51:36.293321",
     "status": "completed"
    },
    "tags": []
   },
   "outputs": [],
   "source": [
    "# 1) 定义时间窗口 / Define time window\n",
    "max_date = orders_payments['order_purchase_timestamp'].max()\n",
    "cutoff_date = max_date - DateOffset(months=6)\n",
    "label_end = cutoff_date + DateOffset(months=6)\n",
    "\n",
    "# 2) 划分数据集 / Split dataset\n",
    "train_orders  = orders_payments[orders_payments['order_purchase_timestamp'] <= cutoff_date]\n",
    "future_orders = orders_payments[\n",
    "    (orders_payments['order_purchase_timestamp'] > cutoff_date) &\n",
    "    (orders_payments['order_purchase_timestamp'] <= label_end)\n",
    "]\n",
    "\n",
    "# 3) 基于 train_orders 计算 RFM / Compute RFM features on train_orders\n",
    "reference_date = cutoff_date\n",
    "rfm_train = (\n",
    "    train_orders\n",
    "    .groupby('customer_unique_id')\n",
    "    .agg(\n",
    "        R = ('order_purchase_timestamp', lambda x: (reference_date - x.max()).days),\n",
    "        F = ('order_id', 'nunique'),\n",
    "        M = ('payment_value', 'sum')\n",
    "    )\n",
    "    .reset_index()\n",
    ")\n",
    "\n",
    "# 4) 标准化 & 聚类标签 / Scale & cluster label\n",
    "rfm_train[['R_z', 'F_z', 'M_z']] = scaler.transform(rfm_train[['R','F','M']])\n",
    "rfm_train['cluster'] = kmeans_model.predict(rfm_train[['R_z','F_z','M_z']])\n",
    "\n",
    "# 5) 基于 train_orders 计算其他特征 / Compute other features on train_orders\n",
    "# 计算品类多样度 / Compute category diversity per user\n",
    "order_items_train = order_items_products.merge(\n",
    "    train_orders[['order_id', 'customer_unique_id']],\n",
    "    on='order_id',\n",
    "    how='inner'\n",
    ")\n",
    "category_count = (\n",
    "    order_items_train\n",
    "    .groupby('customer_unique_id')['product_category_name']\n",
    "    .nunique()\n",
    "    .reset_index(name='category_count')\n",
    ")\n",
    "\n",
    "# 最常用支付方式 / Most frequent payment type\n",
    "payment_mode = (\n",
    "    train_orders\n",
    "    .groupby('customer_unique_id')['payment_type']\n",
    "    .agg(lambda x: x.mode().iloc[0])\n",
    "    .reset_index(name='payment_type')\n",
    ")\n",
    "\n",
    "# 所在省份 / Most frequent state\n",
    "state_mode = (\n",
    "    train_orders\n",
    "    .groupby('customer_unique_id')['customer_state']\n",
    "    .agg(lambda x: x.mode().iloc[0])\n",
    "    .reset_index(name='customer_state')\n",
    ")\n",
    "\n",
    "# 6) 构建特征表 / Merge all features\n",
    "features_train = (\n",
    "    rfm_train[['customer_unique_id','R_z','F_z','M_z','cluster']]\n",
    "    .merge(category_count, on='customer_unique_id', how='left')\n",
    "    .merge(payment_mode, on='customer_unique_id', how='left')\n",
    "    .merge(state_mode, on='customer_unique_id', how='left')\n",
    ")"
   ]
  },
  {
   "cell_type": "code",
   "execution_count": 22,
   "id": "3ae74ef1",
   "metadata": {
    "execution": {
     "iopub.execute_input": "2025-07-17T23:51:54.314324Z",
     "iopub.status.busy": "2025-07-17T23:51:54.314052Z",
     "iopub.status.idle": "2025-07-17T23:51:54.335645Z",
     "shell.execute_reply": "2025-07-17T23:51:54.334675Z"
    },
    "papermill": {
     "duration": 0.039204,
     "end_time": "2025-07-17T23:51:54.337342",
     "exception": false,
     "start_time": "2025-07-17T23:51:54.298138",
     "status": "completed"
    },
    "tags": []
   },
   "outputs": [
    {
     "data": {
      "text/plain": [
       "customer_unique_id      0\n",
       "R_z                     0\n",
       "F_z                     0\n",
       "M_z                     0\n",
       "cluster                 0\n",
       "category_count        594\n",
       "payment_type            0\n",
       "customer_state          0\n",
       "dtype: int64"
      ]
     },
     "execution_count": 22,
     "metadata": {},
     "output_type": "execute_result"
    }
   ],
   "source": [
    "# 检查 merge 后可能出现的缺失值 / Check possible missing values after merge\n",
    "features_train.isnull().sum()"
   ]
  },
  {
   "cell_type": "code",
   "execution_count": 23,
   "id": "70cfd2fc",
   "metadata": {
    "execution": {
     "iopub.execute_input": "2025-07-17T23:51:54.367271Z",
     "iopub.status.busy": "2025-07-17T23:51:54.366987Z",
     "iopub.status.idle": "2025-07-17T23:51:54.409280Z",
     "shell.execute_reply": "2025-07-17T23:51:54.408378Z"
    },
    "papermill": {
     "duration": 0.058574,
     "end_time": "2025-07-17T23:51:54.410866",
     "exception": false,
     "start_time": "2025-07-17T23:51:54.352292",
     "status": "completed"
    },
    "tags": []
   },
   "outputs": [
    {
     "data": {
      "text/html": [
       "<div>\n",
       "<style scoped>\n",
       "    .dataframe tbody tr th:only-of-type {\n",
       "        vertical-align: middle;\n",
       "    }\n",
       "\n",
       "    .dataframe tbody tr th {\n",
       "        vertical-align: top;\n",
       "    }\n",
       "\n",
       "    .dataframe thead th {\n",
       "        text-align: right;\n",
       "    }\n",
       "</style>\n",
       "<table border=\"1\" class=\"dataframe\">\n",
       "  <thead>\n",
       "    <tr style=\"text-align: right;\">\n",
       "      <th></th>\n",
       "      <th>customer_unique_id</th>\n",
       "      <th>R_z</th>\n",
       "      <th>F_z</th>\n",
       "      <th>M_z</th>\n",
       "      <th>cluster</th>\n",
       "      <th>category_count</th>\n",
       "      <th>payment_type_credit_card</th>\n",
       "      <th>payment_type_debit_card</th>\n",
       "      <th>payment_type_unknown</th>\n",
       "      <th>payment_type_voucher</th>\n",
       "      <th>...</th>\n",
       "      <th>customer_state_PR</th>\n",
       "      <th>customer_state_RJ</th>\n",
       "      <th>customer_state_RN</th>\n",
       "      <th>customer_state_RO</th>\n",
       "      <th>customer_state_RR</th>\n",
       "      <th>customer_state_RS</th>\n",
       "      <th>customer_state_SC</th>\n",
       "      <th>customer_state_SE</th>\n",
       "      <th>customer_state_SP</th>\n",
       "      <th>customer_state_TO</th>\n",
       "    </tr>\n",
       "  </thead>\n",
       "  <tbody>\n",
       "    <tr>\n",
       "      <th>0</th>\n",
       "      <td>0000f46a3911fa3c0805444483337064</td>\n",
       "      <td>0.744811</td>\n",
       "      <td>-0.162368</td>\n",
       "      <td>-0.347291</td>\n",
       "      <td>0</td>\n",
       "      <td>1.0</td>\n",
       "      <td>True</td>\n",
       "      <td>False</td>\n",
       "      <td>False</td>\n",
       "      <td>False</td>\n",
       "      <td>...</td>\n",
       "      <td>False</td>\n",
       "      <td>False</td>\n",
       "      <td>False</td>\n",
       "      <td>False</td>\n",
       "      <td>False</td>\n",
       "      <td>False</td>\n",
       "      <td>True</td>\n",
       "      <td>False</td>\n",
       "      <td>False</td>\n",
       "      <td>False</td>\n",
       "    </tr>\n",
       "    <tr>\n",
       "      <th>1</th>\n",
       "      <td>0000f6ccb0745a6a4b88665a16c9f078</td>\n",
       "      <td>-0.663145</td>\n",
       "      <td>-0.162368</td>\n",
       "      <td>-0.531366</td>\n",
       "      <td>1</td>\n",
       "      <td>1.0</td>\n",
       "      <td>True</td>\n",
       "      <td>False</td>\n",
       "      <td>False</td>\n",
       "      <td>False</td>\n",
       "      <td>...</td>\n",
       "      <td>False</td>\n",
       "      <td>False</td>\n",
       "      <td>False</td>\n",
       "      <td>False</td>\n",
       "      <td>False</td>\n",
       "      <td>False</td>\n",
       "      <td>False</td>\n",
       "      <td>False</td>\n",
       "      <td>False</td>\n",
       "      <td>False</td>\n",
       "    </tr>\n",
       "    <tr>\n",
       "      <th>2</th>\n",
       "      <td>0004aac84e0df4da2b147fca70cf8255</td>\n",
       "      <td>-0.878250</td>\n",
       "      <td>-0.162368</td>\n",
       "      <td>0.130916</td>\n",
       "      <td>1</td>\n",
       "      <td>1.0</td>\n",
       "      <td>True</td>\n",
       "      <td>False</td>\n",
       "      <td>False</td>\n",
       "      <td>False</td>\n",
       "      <td>...</td>\n",
       "      <td>False</td>\n",
       "      <td>False</td>\n",
       "      <td>False</td>\n",
       "      <td>False</td>\n",
       "      <td>False</td>\n",
       "      <td>False</td>\n",
       "      <td>False</td>\n",
       "      <td>False</td>\n",
       "      <td>True</td>\n",
       "      <td>False</td>\n",
       "    </tr>\n",
       "    <tr>\n",
       "      <th>3</th>\n",
       "      <td>0004bd2a26a76fe21f786e4fbd80607f</td>\n",
       "      <td>-1.803850</td>\n",
       "      <td>-0.162368</td>\n",
       "      <td>0.001674</td>\n",
       "      <td>1</td>\n",
       "      <td>1.0</td>\n",
       "      <td>True</td>\n",
       "      <td>False</td>\n",
       "      <td>False</td>\n",
       "      <td>False</td>\n",
       "      <td>...</td>\n",
       "      <td>False</td>\n",
       "      <td>False</td>\n",
       "      <td>False</td>\n",
       "      <td>False</td>\n",
       "      <td>False</td>\n",
       "      <td>False</td>\n",
       "      <td>False</td>\n",
       "      <td>False</td>\n",
       "      <td>True</td>\n",
       "      <td>False</td>\n",
       "    </tr>\n",
       "    <tr>\n",
       "      <th>4</th>\n",
       "      <td>00053a61a98854899e70ed204dd4bafe</td>\n",
       "      <td>-1.562673</td>\n",
       "      <td>-0.162368</td>\n",
       "      <td>1.091434</td>\n",
       "      <td>1</td>\n",
       "      <td>1.0</td>\n",
       "      <td>True</td>\n",
       "      <td>False</td>\n",
       "      <td>False</td>\n",
       "      <td>False</td>\n",
       "      <td>...</td>\n",
       "      <td>True</td>\n",
       "      <td>False</td>\n",
       "      <td>False</td>\n",
       "      <td>False</td>\n",
       "      <td>False</td>\n",
       "      <td>False</td>\n",
       "      <td>False</td>\n",
       "      <td>False</td>\n",
       "      <td>False</td>\n",
       "      <td>False</td>\n",
       "    </tr>\n",
       "  </tbody>\n",
       "</table>\n",
       "<p>5 rows × 36 columns</p>\n",
       "</div>"
      ],
      "text/plain": [
       "                 customer_unique_id       R_z       F_z       M_z  cluster  \\\n",
       "0  0000f46a3911fa3c0805444483337064  0.744811 -0.162368 -0.347291        0   \n",
       "1  0000f6ccb0745a6a4b88665a16c9f078 -0.663145 -0.162368 -0.531366        1   \n",
       "2  0004aac84e0df4da2b147fca70cf8255 -0.878250 -0.162368  0.130916        1   \n",
       "3  0004bd2a26a76fe21f786e4fbd80607f -1.803850 -0.162368  0.001674        1   \n",
       "4  00053a61a98854899e70ed204dd4bafe -1.562673 -0.162368  1.091434        1   \n",
       "\n",
       "   category_count  payment_type_credit_card  payment_type_debit_card  \\\n",
       "0             1.0                      True                    False   \n",
       "1             1.0                      True                    False   \n",
       "2             1.0                      True                    False   \n",
       "3             1.0                      True                    False   \n",
       "4             1.0                      True                    False   \n",
       "\n",
       "   payment_type_unknown  payment_type_voucher  ...  customer_state_PR  \\\n",
       "0                 False                 False  ...              False   \n",
       "1                 False                 False  ...              False   \n",
       "2                 False                 False  ...              False   \n",
       "3                 False                 False  ...              False   \n",
       "4                 False                 False  ...               True   \n",
       "\n",
       "   customer_state_RJ  customer_state_RN  customer_state_RO  customer_state_RR  \\\n",
       "0              False              False              False              False   \n",
       "1              False              False              False              False   \n",
       "2              False              False              False              False   \n",
       "3              False              False              False              False   \n",
       "4              False              False              False              False   \n",
       "\n",
       "   customer_state_RS  customer_state_SC  customer_state_SE  customer_state_SP  \\\n",
       "0              False               True              False              False   \n",
       "1              False              False              False              False   \n",
       "2              False              False              False               True   \n",
       "3              False              False              False               True   \n",
       "4              False              False              False              False   \n",
       "\n",
       "   customer_state_TO  \n",
       "0              False  \n",
       "1              False  \n",
       "2              False  \n",
       "3              False  \n",
       "4              False  \n",
       "\n",
       "[5 rows x 36 columns]"
      ]
     },
     "execution_count": 23,
     "metadata": {},
     "output_type": "execute_result"
    }
   ],
   "source": [
    "# 7) 处理缺失 & One-hot 编码 / Fill NAs & one-hot encode\n",
    "features_train['category_count'] = features_train['category_count'].fillna(0)\n",
    "\n",
    "features_train = pd.get_dummies(\n",
    "    features_train,\n",
    "    columns=['payment_type','customer_state'],\n",
    "    drop_first=True\n",
    ")\n",
    "\n",
    "features_train.head()"
   ]
  },
  {
   "cell_type": "markdown",
   "id": "d616edd8",
   "metadata": {
    "papermill": {
     "duration": 0.014858,
     "end_time": "2025-07-17T23:51:54.440184",
     "exception": false,
     "start_time": "2025-07-17T23:51:54.425326",
     "status": "completed"
    },
    "tags": []
   },
   "source": [
    "### 4.2 准备模型输入 X, y / Prepare model input X, y"
   ]
  },
  {
   "cell_type": "code",
   "execution_count": 24,
   "id": "e6f27513",
   "metadata": {
    "execution": {
     "iopub.execute_input": "2025-07-17T23:51:54.471701Z",
     "iopub.status.busy": "2025-07-17T23:51:54.471087Z",
     "iopub.status.idle": "2025-07-17T23:51:54.535998Z",
     "shell.execute_reply": "2025-07-17T23:51:54.535082Z"
    },
    "papermill": {
     "duration": 0.082707,
     "end_time": "2025-07-17T23:51:54.537646",
     "exception": false,
     "start_time": "2025-07-17T23:51:54.454939",
     "status": "completed"
    },
    "tags": []
   },
   "outputs": [],
   "source": [
    "# 生成标签 y：未来 6 个月 GMV / Generate label y: 6‑month future GMV\n",
    "y = (\n",
    "    future_orders\n",
    "    .groupby('customer_unique_id')['payment_value']\n",
    "    .sum()\n",
    "    # 重新索引，使 y 的顺序与 features_train 中的 customer_unique_id 一致；\n",
    "    # 对于未来没有订单的客户填充 0，表示其未来消费为 0\n",
    "    # Reindex to match the order of customer IDs in features_train;\n",
    "    # fill missing customers (i.e., no future orders) with 0.\n",
    "    .reindex(features_train['customer_unique_id'], fill_value=0)\n",
    "    .reset_index(name='y')\n",
    ")"
   ]
  },
  {
   "cell_type": "code",
   "execution_count": 25,
   "id": "a0a68431",
   "metadata": {
    "execution": {
     "iopub.execute_input": "2025-07-17T23:51:54.567109Z",
     "iopub.status.busy": "2025-07-17T23:51:54.566770Z",
     "iopub.status.idle": "2025-07-17T23:51:54.605019Z",
     "shell.execute_reply": "2025-07-17T23:51:54.603839Z"
    },
    "papermill": {
     "duration": 0.054767,
     "end_time": "2025-07-17T23:51:54.606449",
     "exception": false,
     "start_time": "2025-07-17T23:51:54.551682",
     "status": "completed"
    },
    "tags": []
   },
   "outputs": [
    {
     "name": "stdout",
     "output_type": "stream",
     "text": [
      "Features shape: (68169, 35), Label shape: (68169,)\n"
     ]
    }
   ],
   "source": [
    "# 合并特征与 y（如果尚未合并）/ Merge features and target\n",
    "model_data = features_train.merge(y, on='customer_unique_id', how='left')\n",
    "\n",
    "# 准备特征矩阵 X 与目标 y / Prepare X and y\n",
    "X = model_data.drop(columns=['customer_unique_id', 'y'])\n",
    "y = model_data['y']\n",
    "\n",
    "print(f\"Features shape: {X.shape}, Label shape: {y.shape}\")"
   ]
  },
  {
   "cell_type": "code",
   "execution_count": 26,
   "id": "54fb9c27",
   "metadata": {
    "execution": {
     "iopub.execute_input": "2025-07-17T23:51:54.637800Z",
     "iopub.status.busy": "2025-07-17T23:51:54.637482Z",
     "iopub.status.idle": "2025-07-17T23:51:54.652059Z",
     "shell.execute_reply": "2025-07-17T23:51:54.651090Z"
    },
    "papermill": {
     "duration": 0.033113,
     "end_time": "2025-07-17T23:51:54.653781",
     "exception": false,
     "start_time": "2025-07-17T23:51:54.620668",
     "status": "completed"
    },
    "tags": []
   },
   "outputs": [],
   "source": [
    "# 划分训练集与测试集 / Split into train and test sets\n",
    "X_train, X_test, y_train, y_test = train_test_split(\n",
    "    X, y, test_size=0.2, random_state=42\n",
    ")"
   ]
  },
  {
   "cell_type": "markdown",
   "id": "a9126ca0",
   "metadata": {
    "papermill": {
     "duration": 0.01535,
     "end_time": "2025-07-17T23:51:54.684452",
     "exception": false,
     "start_time": "2025-07-17T23:51:54.669102",
     "status": "completed"
    },
    "tags": []
   },
   "source": [
    "### 4.3 构建回归模型并预测未来 6 个月 GMV / Build regression model & predict 6‑month GMV"
   ]
  },
  {
   "cell_type": "code",
   "execution_count": 27,
   "id": "05d853a6",
   "metadata": {
    "execution": {
     "iopub.execute_input": "2025-07-17T23:51:54.715861Z",
     "iopub.status.busy": "2025-07-17T23:51:54.715522Z",
     "iopub.status.idle": "2025-07-17T23:51:55.091914Z",
     "shell.execute_reply": "2025-07-17T23:51:55.090962Z"
    },
    "papermill": {
     "duration": 0.393717,
     "end_time": "2025-07-17T23:51:55.093478",
     "exception": false,
     "start_time": "2025-07-17T23:51:54.699761",
     "status": "completed"
    },
    "tags": []
   },
   "outputs": [
    {
     "name": "stdout",
     "output_type": "stream",
     "text": [
      "[LightGBM] [Info] Auto-choosing row-wise multi-threading, the overhead of testing was 0.005751 seconds.\n",
      "You can set `force_row_wise=true` to remove the overhead.\n",
      "And if memory is not enough, you can set `force_col_wise=true`.\n",
      "[LightGBM] [Info] Total Bins 585\n",
      "[LightGBM] [Info] Number of data points in the train set: 54535, number of used features: 34\n",
      "[LightGBM] [Info] Start training from score 1.293845\n"
     ]
    },
    {
     "data": {
      "text/html": [
       "<div>\n",
       "<style scoped>\n",
       "    .dataframe tbody tr th:only-of-type {\n",
       "        vertical-align: middle;\n",
       "    }\n",
       "\n",
       "    .dataframe tbody tr th {\n",
       "        vertical-align: top;\n",
       "    }\n",
       "\n",
       "    .dataframe thead th {\n",
       "        text-align: right;\n",
       "    }\n",
       "</style>\n",
       "<table border=\"1\" class=\"dataframe\">\n",
       "  <thead>\n",
       "    <tr style=\"text-align: right;\">\n",
       "      <th></th>\n",
       "      <th>y_true</th>\n",
       "      <th>y_pred</th>\n",
       "    </tr>\n",
       "  </thead>\n",
       "  <tbody>\n",
       "    <tr>\n",
       "      <th>24788</th>\n",
       "      <td>0.0</td>\n",
       "      <td>1.261308</td>\n",
       "    </tr>\n",
       "    <tr>\n",
       "      <th>32388</th>\n",
       "      <td>0.0</td>\n",
       "      <td>0.867113</td>\n",
       "    </tr>\n",
       "    <tr>\n",
       "      <th>60853</th>\n",
       "      <td>0.0</td>\n",
       "      <td>0.468414</td>\n",
       "    </tr>\n",
       "    <tr>\n",
       "      <th>23766</th>\n",
       "      <td>0.0</td>\n",
       "      <td>0.603796</td>\n",
       "    </tr>\n",
       "    <tr>\n",
       "      <th>66975</th>\n",
       "      <td>0.0</td>\n",
       "      <td>0.736043</td>\n",
       "    </tr>\n",
       "  </tbody>\n",
       "</table>\n",
       "</div>"
      ],
      "text/plain": [
       "       y_true    y_pred\n",
       "24788     0.0  1.261308\n",
       "32388     0.0  0.867113\n",
       "60853     0.0  0.468414\n",
       "23766     0.0  0.603796\n",
       "66975     0.0  0.736043"
      ]
     },
     "execution_count": 27,
     "metadata": {},
     "output_type": "execute_result"
    }
   ],
   "source": [
    "# 初始化并训练 LightGBM 回归模型 / Initialize & train LGBMRegressor\n",
    "lgbm = LGBMRegressor(random_state=42)\n",
    "lgbm.fit(X_train, y_train)\n",
    "\n",
    "# 在测试集上预测 / Predict on test set\n",
    "y_pred = lgbm.predict(X_test)\n",
    "\n",
    "# 显示部分预测值对比 / Display sample of predictions\n",
    "pd.DataFrame({'y_true': y_test, 'y_pred': y_pred}).head()"
   ]
  },
  {
   "cell_type": "markdown",
   "id": "3c71c559",
   "metadata": {
    "papermill": {
     "duration": 0.013959,
     "end_time": "2025-07-17T23:51:55.121796",
     "exception": false,
     "start_time": "2025-07-17T23:51:55.107837",
     "status": "completed"
    },
    "tags": []
   },
   "source": [
    "### 4.4 模型评估：MAE / R² / Evaluate model (MAE, R²)\n",
    "\n",
    "**选择 MAE 的原因**\n",
    "\n",
    "- 业务可解释性强：MAE 的单位与 GMV 一致（元），让运营能直观理解“平均误差$\\pm$X元”的含义。  \n",
    "\n",
    "- 对极端值不敏感：MAE 不会因为少数大额长尾用户的极端误差而被过度放大，能更真实地反映整体预测表现。  \n",
    "\n",
    "- 优化目标明确：MAE 平等对待每个样本的误差，更契合“追求整体稳定性”的建模需求。  \n",
    "\n",
    "--- \n",
    "\n",
    "**Why MAE**\n",
    "\n",
    "- **Strong business interpretability**: MAE is in the same unit as GMV (currency), making it easy for stakeholders to grasp what an average error of ±X means.\n",
    "\n",
    "- **Robust to outliers**: MAE does not overly weight large errors from a few high-value users, providing a more realistic measure of overall predictive accuracy.\n",
    "\n",
    "- **Clear optimization objective**: MAE treats all errors equally, aligning with the goal of achieving stable, consistent predictions across the user base.  "
   ]
  },
  {
   "cell_type": "code",
   "execution_count": 28,
   "id": "f1a9a182",
   "metadata": {
    "execution": {
     "iopub.execute_input": "2025-07-17T23:51:55.151170Z",
     "iopub.status.busy": "2025-07-17T23:51:55.150907Z",
     "iopub.status.idle": "2025-07-17T23:51:55.160550Z",
     "shell.execute_reply": "2025-07-17T23:51:55.159737Z"
    },
    "papermill": {
     "duration": 0.026026,
     "end_time": "2025-07-17T23:51:55.161930",
     "exception": false,
     "start_time": "2025-07-17T23:51:55.135904",
     "status": "completed"
    },
    "tags": []
   },
   "outputs": [
    {
     "name": "stdout",
     "output_type": "stream",
     "text": [
      "MAE: 2.95\n"
     ]
    }
   ],
   "source": [
    "mae = mean_absolute_error(y_test, y_pred)\n",
    "print(f\"MAE: {mae:.2f}\")"
   ]
  },
  {
   "cell_type": "markdown",
   "id": "d0557f99",
   "metadata": {
    "papermill": {
     "duration": 0.014354,
     "end_time": "2025-07-17T23:51:55.190614",
     "exception": false,
     "start_time": "2025-07-17T23:51:55.176260",
     "status": "completed"
    },
    "tags": []
   },
   "source": [
    "**解读 / Interpreting**\n",
    "\n",
    "- **绝对意义**：平均预测误差约为 2.95，表示模型对每个用户未来 6 个月 GMV 的预测，平均偏差不到 3 元。  \n",
    "- **零值主导**：由于大多数用户未来半年的 GMV 为 0（不再购买），模型只要预测接近 0 就能拿到很低的 MAE。  \n",
    "- **对关键用户的意义**：对实际 y > 0 的活跃用户，平均 2.95 元的误差可能是“可忽略”级别，也可能不够精准，需单独评估。  \n",
    "\n",
    "\n",
    "---\n",
    "\n",
    "**Interpreting**\n",
    "\n",
    "- **Absolute sense**: The average prediction error is about 2.95 (BRL), meaning on average our model’s forecast for a user’s 6‑month GMV is within ±3 reais of the true value.\n",
    "- **Zero‑dominance**: Because most users do not purchase again (true GMV = 0), predicting near zero yields a very low MAE overall.\n",
    "- **For active customers**: For users with true y > 0, an average 2.95 error may be trivial or still too large — this subgroup deserves a separate MAE calculation."
   ]
  },
  {
   "cell_type": "code",
   "execution_count": 29,
   "id": "98816ba9",
   "metadata": {
    "execution": {
     "iopub.execute_input": "2025-07-17T23:51:55.220909Z",
     "iopub.status.busy": "2025-07-17T23:51:55.220538Z",
     "iopub.status.idle": "2025-07-17T23:51:55.227580Z",
     "shell.execute_reply": "2025-07-17T23:51:55.226790Z"
    },
    "papermill": {
     "duration": 0.024316,
     "end_time": "2025-07-17T23:51:55.229379",
     "exception": false,
     "start_time": "2025-07-17T23:51:55.205063",
     "status": "completed"
    },
    "tags": []
   },
   "outputs": [
    {
     "name": "stdout",
     "output_type": "stream",
     "text": [
      "Active users MAE: 149.20\n"
     ]
    }
   ],
   "source": [
    "mask = y_test > 0\n",
    "mae_active = mean_absolute_error(y_test[mask], y_pred[mask])\n",
    "print(f\"Active users MAE: {mae_active:.2f}\")"
   ]
  },
  {
   "cell_type": "markdown",
   "id": "e49ed1cf",
   "metadata": {
    "papermill": {
     "duration": 0.014974,
     "end_time": "2025-07-17T23:51:55.259389",
     "exception": false,
     "start_time": "2025-07-17T23:51:55.244415",
     "status": "completed"
    },
    "tags": []
   },
   "source": [
    "**Active Users MAE 解读**：\n",
    "\n",
    "- **误差规模**：活跃用户（未来 6 个月内有消费）的平均预测误差约为 149.20 元，远高于整体 MAE 2.95 元，表明模型对高价值复购用户的预测能力仍显不足。  \n",
    "- **偏向零值**：模型在多数用户（GMV=0）上表现优异，但这种偏向零的“好成绩”掩盖了对小部分高价值用户的大误差。  \n",
    "\n",
    "---\n",
    "\n",
    "**Interpreting Active Users MAE**:\n",
    "\n",
    "- **Error magnitude**: The average error for active users is ~149.20 BRL—much larger than the overall MAE of 2.95 BRL—indicating poor predictive performance on users who actually repurchase.\n",
    "- **Zero‑bias**: The model’s strong performance on zero‑spending users masks its large errors on the small subset of high‑value customers."
   ]
  },
  {
   "cell_type": "markdown",
   "id": "842f590d",
   "metadata": {
    "papermill": {
     "duration": 0.014377,
     "end_time": "2025-07-17T23:51:55.288498",
     "exception": false,
     "start_time": "2025-07-17T23:51:55.274121",
     "status": "completed"
    },
    "tags": []
   },
   "source": [
    "### 4.5 下一步优化建议 / Next Steps for Improvement\n",
    "\n",
    "1. **目标转换（Log1p）**  \n",
    "   - 对 y 进行 `log1p(y)` 转换后建模，再 `expm1(pred)` 还原，能减轻长尾对模型的影响。  \n",
    "\n",
    "2. **分层建模（Two‑stage）**  \n",
    "   - **第一步**：二分类模型预测用户是否会复购（y>0）。  \n",
    "   - **第二步**：仅对预测为正的样本用回归模型预测具体 GMV，可专门优化高价值用户。  \n",
    "\n",
    "3. **丰富特征**  \n",
    "   - 加入更多行为信号：如用户评论得分、发货/配送时长、历史购买间隔分布等。  \n",
    "\n",
    "4. **调整评估指标**  \n",
    "   - 增加 **RMSE** 或 **RMSLE**，观察对大误差或对数误差的敏感度；并用 **分层 MAE**（按 GMV 档位）衡量不同价值段表现。  \n",
    "\n",
    "5. **交叉验证与调参**  \n",
    "   - 使用 K‑Fold CV 确保模型稳定性；在 LightGBM 上尝试优化学习率、树深、叶子节点数等超参。  \n",
    "\n",
    "通过上述措施，可显著提升模型对高价值复购用户的预测精度，同时保持对零值用户的良好表现。  \n",
    "\n",
    "---\n",
    "\n",
    "1. Transform target with `log1p` to reduce heavy‑tail impact, then inverse with `expm1`.\n",
    "\n",
    "2. Use a two‑stage approach: first classify purchase/no‑purchase, then regress only on positive samples.\n",
    "\n",
    "3. Add features such as review score, delivery time, purchase interval stats.\n",
    "\n",
    "4. Include RMSE/RMSLE and segmented MAE by spending tiers.\n",
    "\n",
    "5. Perform K‑Fold CV and hyperparameter tuning on learning rate, max_depth, num_leaves, etc.\n",
    "\n",
    "Implementing these steps should improve predictive accuracy for high‑value customers while retaining performance on zero‑spending users."
   ]
  }
 ],
 "metadata": {
  "kaggle": {
   "accelerator": "none",
   "dataSources": [
    {
     "datasetId": 55151,
     "sourceId": 2669146,
     "sourceType": "datasetVersion"
    },
    {
     "sourceId": 250737134,
     "sourceType": "kernelVersion"
    }
   ],
   "dockerImageVersionId": 31089,
   "isGpuEnabled": false,
   "isInternetEnabled": true,
   "language": "python",
   "sourceType": "notebook"
  },
  "kernelspec": {
   "display_name": "Python 3",
   "language": "python",
   "name": "python3"
  },
  "language_info": {
   "codemirror_mode": {
    "name": "ipython",
    "version": 3
   },
   "file_extension": ".py",
   "mimetype": "text/x-python",
   "name": "python",
   "nbconvert_exporter": "python",
   "pygments_lexer": "ipython3",
   "version": "3.11.13"
  },
  "papermill": {
   "default_parameters": {},
   "duration": 48.221672,
   "end_time": "2025-07-17T23:51:56.223903",
   "environment_variables": {},
   "exception": null,
   "input_path": "__notebook__.ipynb",
   "output_path": "__notebook__.ipynb",
   "parameters": {},
   "start_time": "2025-07-17T23:51:08.002231",
   "version": "2.6.0"
  }
 },
 "nbformat": 4,
 "nbformat_minor": 5
}
